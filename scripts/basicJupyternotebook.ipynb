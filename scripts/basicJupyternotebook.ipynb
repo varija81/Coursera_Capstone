# This notebook is mainly used for Capstone project
import pandas as pd
import numpy as np
print("Hello Capstone Project Course!")
